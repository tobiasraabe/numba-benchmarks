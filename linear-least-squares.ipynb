{
 "cells": [
  {
   "cell_type": "markdown",
   "metadata": {},
   "source": [
    "### Linear least squares optimization"
   ]
  },
  {
   "cell_type": "code",
   "execution_count": 1,
   "metadata": {},
   "outputs": [],
   "source": [
    "import numpy as np\n",
    "import perfplot\n",
    "from numba import njit\n",
    "from scipy import linalg\n",
    "%load_ext snakeviz\n",
    "%load_ext line_profiler"
   ]
  },
  {
   "cell_type": "code",
   "execution_count": 2,
   "metadata": {},
   "outputs": [],
   "source": [
    "np.random.seed(42)\n",
    "\n",
    "def generate_data(num_obs, num_indeps):\n",
    "    x = np.random.randint(0, 10, (num_obs, num_indeps))\n",
    "    x = np.hstack((np.ones((num_obs, 1)), x))\n",
    "    e = np.random.randn(num_obs)\n",
    "    beta = np.random.randint(0, 10, num_indeps + 1)\n",
    "\n",
    "    y = x @ beta + e\n",
    "    \n",
    "    return y, x"
   ]
  },
  {
   "cell_type": "code",
   "execution_count": 3,
   "metadata": {},
   "outputs": [],
   "source": [
    "@njit\n",
    "def lu_factor(u):\n",
    "    \"\"\"\n",
    "    \n",
    "    Examples\n",
    "    --------\n",
    "    >>> a = np.array([\n",
    "    ...     [0, 5, 5],\n",
    "    ...     [2, 9, 0],\n",
    "    ...     [6, 8, 8]\n",
    "    ... ], dtype=float)\n",
    "    >>> lu_factor(a)\n",
    "    (array([[ 6.        ,  8.        ,  8.        ],\n",
    "           [ 0.33333333,  6.33333333, -2.66666667],\n",
    "           [ 0.        ,  0.78947368,  7.10526316]]), array([2, 1, 0], dtype=int64))\n",
    "    \"\"\"\n",
    "    u = u * 1.0\n",
    "    s = np.arange(u.shape[0])\n",
    "    \n",
    "    for i in range(u.shape[0] - 1):        \n",
    "        row = np.argmax(np.abs(u[i:, i])) + i\n",
    "        temp_row = u[row].copy()\n",
    "        u[row] = u[i]\n",
    "        u[i] = temp_row\n",
    "        \n",
    "        temp_s = s[row]\n",
    "        s[row] = s[i]\n",
    "        s[i] = temp_s\n",
    "\n",
    "        for j in range(i + 1, u.shape[0]):\n",
    "            u[j, i] = u[j, i] / u[i, i]\n",
    "            u[j, i + 1:] = u[j, i + 1:] - u[j, i] * u[i, i + 1:]\n",
    "            \n",
    "    return u, s\n",
    "\n",
    "\n",
    "@njit\n",
    "def forward_substitution(l, b):\n",
    "    \"\"\"Solves Ly=b.\n",
    "    \n",
    "    L has to be a lower triangular matrix. It is not required that the diagonal\n",
    "    has only elements of 1.\n",
    "    \n",
    "    References\n",
    "    ----------\n",
    "    - https://pages.mtu.edu/~shene/COURSES/cs3621/NOTES/INT-APP/CURVE-linear-system.html\n",
    "    \n",
    "    \"\"\"\n",
    "    y = np.zeros(b.shape[0])\n",
    "    y[0] = b[0] / l[0, 0]\n",
    "    for i in range(1, b.shape[0]):\n",
    "        _sum = np.sum(l[i, :i] * y[:i])\n",
    "        y[i] = (b[i] - _sum) / l[i, i]\n",
    "    return y\n",
    "\n",
    "\n",
    "@njit\n",
    "def backward_substitution(u, y):\n",
    "    \"\"\"Solves Ux=y.\n",
    "    \n",
    "    References\n",
    "    ----------\n",
    "    - https://pages.mtu.edu/~shene/COURSES/cs3621/NOTES/INT-APP/CURVE-linear-system.html\n",
    "    \n",
    "    \"\"\"\n",
    "    x = np.zeros(y.shape[0])\n",
    "    x[-1] = y[-1] / u[-1, -1]\n",
    "    for i in range(y.shape[0] - 2, -1, -1):\n",
    "        _sum = np.sum(u[i, i+1:] * x[i+1:])\n",
    "        x[i] = (y[i] - _sum) / u[i, i]\n",
    "            \n",
    "    return x\n",
    "\n",
    "\n",
    "@njit\n",
    "def lu_solve(a, b):\n",
    "    \"\"\"Wrapper for lu_factor and forward, backward substitution.\n",
    "    \n",
    "    Example\n",
    "    -------\n",
    "    >>> a = np.array([[ 10.,  47.,  52.],\n",
    "    ...               [ 47., 285., 229.],\n",
    "    ...               [ 52., 229., 380.]])\n",
    "    >>> b = np.array([ 600.37873965, 3022.99821901, 3815.80752727])\n",
    "    >>> lu_solve(a, b)\n",
    "    array([0.92718954, 4.82287129, 7.00830565])\n",
    "    \n",
    "    \"\"\"\n",
    "    lu, s = lu_factor(a)\n",
    "    \n",
    "    p = np.identity(s.shape[0])[s]\n",
    "    l = np.tril(lu, k=-1) + np.identity(s.shape[0])\n",
    "    u = np.triu(lu)\n",
    "    \n",
    "    y = forward_substitution(l, p.dot(b))\n",
    "    x = backward_substitution(u, y)\n",
    "    \n",
    "    return x\n",
    "\n",
    "@njit\n",
    "def own_cholesky(A):\n",
    "    \"\"\"Performs a Cholesky decomposition of on symmetric, pos-def A.\n",
    "    Returns lower-triangular L (full sized, zeroed above diag)\n",
    "       \n",
    "    References\n",
    "    ----------\n",
    "    - http://drsfenner.org/blog/2016/02/basic-cholesky-implementation/\n",
    "    \n",
    "    Examples\n",
    "    --------\n",
    "    >>> a = np.random.randint(0, 10, (4, 4))\n",
    "    >>> a = a.T.dot(a)\n",
    "    >>> x_1 = own_cholesky(a)\n",
    "    >>> x_2 = np.linalg.cholesky(a)\n",
    "    >>> assert np.allclose(x_1, x_2)\n",
    "    \n",
    "    \"\"\"\n",
    "    n = A.shape[0]\n",
    "    L = np.zeros((n, n))\n",
    "\n",
    "    # Perform the Cholesky decomposition\n",
    "    for row in range(n):\n",
    "        for col in range(row + 1):\n",
    "            tmp_sum = L[row,:col].dot(L[col,:col])\n",
    "\n",
    "            if (row == col): \n",
    "                # diag elts.\n",
    "                L[row,col] = np.sqrt(A[row,row] - tmp_sum)\n",
    "            else:\n",
    "                # off-diag elts.\n",
    "                L[row,col] = (1.0 / L[col,col] * (A[row,col] - tmp_sum))\n",
    "                \n",
    "#             L[row,col] = np.where(\n",
    "#                 row == col,\n",
    "#                 np.sqrt(A[row,row] - tmp_sum),\n",
    "#                 1.0 / L[col,col] * (A[row,col] - tmp_sum)\n",
    "#             )\n",
    "    return L"
   ]
  },
  {
   "cell_type": "code",
   "execution_count": 7,
   "metadata": {},
   "outputs": [],
   "source": [
    "@njit\n",
    "def matrix_inversion(a):\n",
    "    y, x = a[0], a[1]\n",
    "    return np.linalg.inv(x.T.dot(x)).dot(x.T.dot(y))\n",
    "\n",
    "@njit\n",
    "def linalg_solve(a):\n",
    "    y, x = a[0], a[1]\n",
    "    \n",
    "    return np.linalg.solve(x.T.dot(x), np.dot(x.T, y))\n",
    "\n",
    "def lls_with_blas(z, residuals=False):\n",
    "    \"\"\"\n",
    "    https://gist.github.com/aldro61/5889795\n",
    "    \"\"\"\n",
    "    a, b = z[1], z[0]\n",
    "    if type(a) != np.ndarray or not a.flags['C_CONTIGUOUS']:\n",
    "\n",
    "        warn('Matrix a is not a C-contiguous numpy array. The solver will create a copy, which will result' + \\\n",
    "             ' in increased memory usage.')\n",
    "\n",
    "    a = np.asarray(a, order='c')\n",
    "    i = linalg.blas.dgemm(alpha=1.0, a=a.T, b=a.T, trans_b=True)\n",
    "    \n",
    "    return np.linalg.solve(i, linalg.blas.dgemm(alpha=1.0, a=a.T, b=b)).flatten()\n",
    "\n",
    "def scipy_lu_solve(a):\n",
    "    y, x = a[0], a[1]\n",
    "    \n",
    "    lu, piv = linalg.lu_factor(x.T @ x)\n",
    "    return linalg.lu_solve((lu, piv), x.T @ y)\n",
    "\n",
    "\n",
    "@njit\n",
    "def own_lu_solve(a):\n",
    "    y, x = a[0], a[1]\n",
    "    \n",
    "    return lu_solve(x.T.dot(x), x.T.dot(y))\n",
    "    \n",
    "    \n",
    "@njit\n",
    "def numpy_cholesky(a):\n",
    "    y, x = a[0], a[1]\n",
    "    l = np.linalg.cholesky(x.T.dot(x))\n",
    "    \n",
    "    c = forward_substitution(l, x.T.dot(y))\n",
    "    \n",
    "    return backward_substitution(l.T, c)\n",
    "\n",
    "@njit\n",
    "def own_chol(a):\n",
    "    y, x = a[0], a[1]\n",
    "    l = own_cholesky(x.T.dot(x))\n",
    "    \n",
    "    c = forward_substitution(l, x.T.dot(y))\n",
    "    \n",
    "    return backward_substitution(l.T, c)\n",
    "\n",
    "@njit\n",
    "def numpy_lstsq(a):\n",
    "    y, x = a[0], a[1]\n",
    "    \n",
    "    return np.linalg.solve(x.T.dot(x), x.T.dot(y))\n",
    "\n",
    "@njit\n",
    "def numpy_qr(a):\n",
    "    y, x = a[0], a[1]\n",
    "    \n",
    "    q, r = np.linalg.qr(x)\n",
    "    \n",
    "    return np.linalg.inv(r).dot(q.T.dot(y))"
   ]
  },
  {
   "cell_type": "code",
   "execution_count": 8,
   "metadata": {},
   "outputs": [],
   "source": [
    "%%capture\n",
    "\n",
    "out = perfplot.bench(\n",
    "    setup=lambda n: generate_data(1000, n),\n",
    "    kernels=[\n",
    "        matrix_inversion, linalg_solve, lls_with_blas, scipy_lu_solve,\n",
    "        numpy_cholesky, numpy_lstsq, numpy_qr, own_lu_solve, own_chol\n",
    "    ],\n",
    "    n_range=[2**k for k in range(10)],\n",
    "    logx=True,\n",
    "    logy=True,\n",
    "    xlabel='Number of independent variables',\n",
    ")"
   ]
  },
  {
   "cell_type": "code",
   "execution_count": 9,
   "metadata": {},
   "outputs": [
    {
     "data": {
      "image/png": "[encoded data removed]",
      "text/plain": [
       "<Figure size 432x288 with 1 Axes>"
      ]
     },
     "metadata": {
      "needs_background": "light"
     },
     "output_type": "display_data"
    }
   ],
   "source": [
    "out.show()"
   ]
  },
  {
   "cell_type": "markdown",
   "metadata": {},
   "source": [
    "### Other testing"
   ]
  },
  {
   "cell_type": "code",
   "execution_count": null,
   "metadata": {},
   "outputs": [],
   "source": [
    "y, x = generate_data(10000, 1000)\n",
    "\n",
    "a = x.T.dot(x)\n",
    "b = x.T.dot(y)"
   ]
  },
  {
   "cell_type": "markdown",
   "metadata": {},
   "source": [
    "#### My lu factor is too slow"
   ]
  },
  {
   "cell_type": "code",
   "execution_count": null,
   "metadata": {},
   "outputs": [],
   "source": [
    "%%timeit\n",
    "lu, s = lu_factor(a)"
   ]
  },
  {
   "cell_type": "code",
   "execution_count": null,
   "metadata": {},
   "outputs": [],
   "source": [
    "%%timeit\n",
    "lu, s = linalg.lu_factor(a)"
   ]
  },
  {
   "cell_type": "markdown",
   "metadata": {},
   "source": [
    "#### My forward and backward substitution are awesome"
   ]
  },
  {
   "cell_type": "code",
   "execution_count": null,
   "metadata": {},
   "outputs": [],
   "source": [
    "lu, s = lu_factor(a)\n",
    "\n",
    "p = np.identity(s.shape[0])[s]\n",
    "l = np.tril(lu, k=-1) + np.identity(s.shape[0])\n",
    "u = np.triu(lu)"
   ]
  },
  {
   "cell_type": "code",
   "execution_count": null,
   "metadata": {},
   "outputs": [],
   "source": [
    "%%timeit \n",
    "\n",
    "y = forward_substitution(l, p.dot(b))\n",
    "x = backward_substitution(u, y)"
   ]
  },
  {
   "cell_type": "code",
   "execution_count": null,
   "metadata": {},
   "outputs": [],
   "source": [
    "@njit\n",
    "def numpy_for_back_subs(p, l, u, b):\n",
    "    y = np.linalg.solve(l, p.dot(b))\n",
    "    x = np.linalg.solve(u, y)"
   ]
  },
  {
   "cell_type": "code",
   "execution_count": null,
   "metadata": {},
   "outputs": [],
   "source": [
    "%%timeit\n",
    "\n",
    "numpy_for_back_subs(p, l, u, b)"
   ]
  },
  {
   "cell_type": "code",
   "execution_count": null,
   "metadata": {},
   "outputs": [],
   "source": []
  }
 ],
 "metadata": {
  "kernelspec": {
   "display_name": "Python 3",
   "language": "python",
   "name": "python3"
  },
  "language_info": {
   "codemirror_mode": {
    "name": "ipython",
    "version": 3
   },
   "file_extension": ".py",
   "mimetype": "text/x-python",
   "name": "python",
   "nbconvert_exporter": "python",
   "pygments_lexer": "ipython3",
   "version": "3.7.2"
  }
 },
 "nbformat": 4,
 "nbformat_minor": 2
}
